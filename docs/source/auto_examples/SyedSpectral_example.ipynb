{
 "cells": [
  {
   "cell_type": "code",
   "execution_count": null,
   "metadata": {},
   "outputs": [],
   "source": [
    "%matplotlib inline"
   ]
  },
  {
   "cell_type": "markdown",
   "metadata": {},
   "source": [
    "\n",
    "# Example: Using SyedSpectral Colormap\n",
    "\n",
    "This script demonstrates how to use the `SyedSpectral` colormap included in `mcmaps`\n",
    "to visualize reflectivity data.\n"
   ]
  },
  {
   "cell_type": "code",
   "execution_count": null,
   "metadata": {},
   "outputs": [],
   "source": [
    "import mcmaps  # noqa\n",
    "import numpy as np\n",
    "import matplotlib.pyplot as plt\n",
    "from scipy.ndimage import gaussian_filter"
   ]
  },
  {
   "cell_type": "markdown",
   "metadata": {},
   "source": [
    "Create synthetic reflectivity field (looks like a cloud)\n",
    "\n"
   ]
  },
  {
   "cell_type": "code",
   "execution_count": null,
   "metadata": {},
   "outputs": [],
   "source": [
    "shape = (300, 300)\n",
    "reflectivity = np.full(shape, -10.0)  # background dBZ\n",
    "\n",
    "np.random.seed(101)\n",
    "noise = np.random.rand(*shape)\n",
    "cloud = gaussian_filter(noise, sigma=15)\n",
    "\n",
    "cloud_normalized = (cloud - cloud.min()) / (cloud.max() - cloud.min())\n",
    "cloud_dbz = cloud_normalized * 80 - 10  # -10 to 70 dBZ\n",
    "cloud_mask = cloud_dbz > 0\n",
    "reflectivity[cloud_mask] = cloud_dbz[cloud_mask]"
   ]
  },
  {
   "cell_type": "markdown",
   "metadata": {},
   "source": [
    "Plot using custom colormap\n",
    "\n"
   ]
  },
  {
   "cell_type": "code",
   "execution_count": null,
   "metadata": {},
   "outputs": [],
   "source": [
    "plt.figure(figsize=(7, 5))\n",
    "plt.title(\"Example Reflectivity\")\n",
    "plt.imshow(reflectivity, cmap=\"SyedSpectral\", vmin=-10, vmax=70, origin=\"lower\")\n",
    "plt.colorbar(label=\"Reflectivity (dBZ)\")\n",
    "plt.tight_layout()\n",
    "plt.show()"
   ]
  }
 ],
 "metadata": {
  "language_info": {
   "codemirror_mode": {
    "name": "ipython",
    "version": 3
   },
   "file_extension": ".py",
   "mimetype": "text/x-python",
   "name": "python",
   "nbconvert_exporter": "python",
   "pygments_lexer": "ipython3",
   "version": "3.11.9"
  }
 },
 "nbformat": 4,
 "nbformat_minor": 0
}
